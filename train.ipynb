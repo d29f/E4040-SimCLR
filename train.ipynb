{
 "cells": [
  {
   "cell_type": "code",
   "execution_count": 1,
   "metadata": {},
   "outputs": [],
   "source": [
    "import tensorflow as tf\n",
    "import re\n",
    "import yaml\n",
    "from tqdm import tqdm\n",
    "from sklearn.linear_model import LogisticRegression\n",
    "import numpy as np\n",
    "from model import ResNetSimCLR\n",
    "from augmentation.augment_helper import crop_and_resize_and_flip, color_distort, rotate, cutout, gaussian_noise, crop_and_resize\n",
    "from tensorflow.keras.datasets import cifar100\n",
    "from tensorflow.keras.layers import *\n",
    "from tensorflow.keras.models import *"
   ]
  },
  {
   "cell_type": "code",
   "execution_count": 2,
   "metadata": {},
   "outputs": [
    {
     "name": "stdout",
     "output_type": "stream",
     "text": [
      "Num GPUs Available:  1\n"
     ]
    }
   ],
   "source": [
    "print(\"Num GPUs Available: \", len(tf.config.list_physical_devices('GPU')))"
   ]
  },
  {
   "cell_type": "code",
   "execution_count": 3,
   "metadata": {},
   "outputs": [],
   "source": [
    "@tf.function\n",
    "def augment_image(image, training=True):\n",
    "    \"\"\"\n",
    "    Apply a series of augmentations for SimCLR suitable for CIFAR-100.\n",
    "\n",
    "    Args:\n",
    "    - image: An image tensor.\n",
    "    - training: Flag to indicate if it's training phase.\n",
    "\n",
    "    Returns:\n",
    "    - Augmented image tensor.\n",
    "    \"\"\"\n",
    "    if training:\n",
    "        # Apply a series of random transformations for training\n",
    "        # Resize slightly larger for augmentation and then resize back\n",
    "        image = tf.image.resize(image, [40, 40])  # Resize to 40x40 for augmentation\n",
    "        # print(image.shape)\n",
    "        image= crop_and_resize(image, 32, 32)  # Resize back to 32x32 after augmentation\n",
    "        print(image.shape)\n",
    "        image = color_distort(image)\n",
    "        print(image.shape)\n",
    "        # image = rotate(image)\n",
    "        # print(image.shape)\n",
    "        # image = cutout(image, 10, 3)  # Adjusted patch size for CIFAR-100\n",
    "        # print(image.shape)\n",
    "        # image = gaussian_noise(image)\n",
    "        # print(image.shape)\n",
    "    else:\n",
    "        # For testing, resize to the original CIFAR-100 size without further augmentation\n",
    "        image = tf.image.resize(image, [32, 32])\n",
    "    return image"
   ]
  },
  {
   "cell_type": "code",
   "execution_count": 4,
   "metadata": {},
   "outputs": [],
   "source": [
    "@tf.function\n",
    "def preprocess_for_simclr(image, label, training=True):\n",
    "    \"\"\"Preprocesses and applies augmentation for SimCLR.\"\"\"\n",
    "    image = tf.cast(image, tf.float32) / 255.0  # Normalize the image\n",
    "    if training:\n",
    "        # Create two augmented versions of the image for training\n",
    "        augmented_image1 = augment_image(image, training=True)\n",
    "        augmented_image2 = augment_image(image, training=True)\n",
    "        return (augmented_image1, augmented_image2), label\n",
    "    else:\n",
    "        # For testing, resize to the original CIFAR-100 size without further augmentation\n",
    "        augmented_image = tf.image.resize(image, [32, 32])\n",
    "        return augmented_image, label\n",
    "    \n",
    "def load_dataset(images, labels, batch_size, training=True):\n",
    "    \"\"\"Creates a tf.data.Dataset object for CIFAR-100 with SimCLR augmentations.\"\"\"\n",
    "    dataset = tf.data.Dataset.from_tensor_slices((images, labels))\n",
    "    dataset = dataset.map(lambda x, y: preprocess_for_simclr(x, y, training), \n",
    "                          num_parallel_calls=tf.data.experimental.AUTOTUNE)\n",
    "    if training:\n",
    "        dataset = dataset.shuffle(1024)\n",
    "    dataset = dataset.batch(batch_size, drop_remainder=True).prefetch(tf.data.experimental.AUTOTUNE)\n",
    "    return dataset\n"
   ]
  },
  {
   "cell_type": "code",
   "execution_count": 5,
   "metadata": {},
   "outputs": [],
   "source": [
    "def contrastive_loss(batch_size, temperature=0.1):\n",
    "    def loss_fn(z_i, z_j):\n",
    "        \"\"\"\n",
    "        Calculate the NT-Xent loss.\n",
    "\n",
    "        Parameters:\n",
    "        - z_i, z_j: The outputs from the two augmented views of the images, with shapes (batch_size, feature_dim).\n",
    "\n",
    "        Returns:\n",
    "        - Scalar loss value.\n",
    "        \"\"\"\n",
    "        batch_size = tf.shape(z_i)[0]\n",
    "        z = tf.concat([z_i, z_j], axis=0)\n",
    "        z = tf.math.l2_normalize(z, axis=1)\n",
    "        \n",
    "        similarity_matrix = tf.matmul(z, z, transpose_b=True)\n",
    "        similarity_matrix = similarity_matrix / temperature\n",
    "\n",
    "        labels = tf.range(batch_size)\n",
    "        labels = tf.concat([labels, labels], axis=0)\n",
    "\n",
    "        # Create a mask to remove positive samples from the diagonals\n",
    "        mask = tf.one_hot(labels, 2 * batch_size)\n",
    "        logits_mask = tf.logical_not(tf.eye(2 * batch_size, dtype=tf.bool))\n",
    "        masked_similarity_matrix = tf.boolean_mask(similarity_matrix, logits_mask)\n",
    "\n",
    "        # Reshape the masked similarity matrix to the correct shape for cross-entropy\n",
    "        masked_similarity_matrix = tf.reshape(masked_similarity_matrix, (2 * batch_size, -1))\n",
    "\n",
    "        loss = tf.nn.sparse_softmax_cross_entropy_with_logits(logits=masked_similarity_matrix, labels=labels)\n",
    "        loss = tf.reduce_mean(loss)\n",
    "\n",
    "        return loss\n",
    "    return loss_fn\n"
   ]
  },
  {
   "cell_type": "code",
   "execution_count": 6,
   "metadata": {},
   "outputs": [],
   "source": [
    "# Load configuration from YAML file\n",
    "config = yaml.load(open('config.yaml', 'r'), Loader=yaml.FullLoader)\n",
    "batch_size = config['batch_size']\n",
    "\n",
    "# Prepare the training and  dataset\n",
    "(train_images, train_labels), (test_images, test_labels) = cifar100.load_data()\n",
    "(new_train_images, new_train_labels), (valid_images, valid_labels) = split_train_validation(train_images, train_labels)\n",
    "train_dataset = load_dataset(new_train_images, new_train_labels, batch_size, training=True)\n",
    "validation_dataset = load_dataset(valid_images, valid_labels, batch_size, training=False)\n",
    "test_dataset = load_dataset(test_images, test_labels, batch_size, training=False)\n",
    "\n",
    "# Initialize the SimCLR model with specified input and output dimensions\n",
    "if config['input_size'] == 32:\n",
    "    input_size = (32, 32, 3)\n",
    "model = ResNetSimCLR(input_size, config['output_size'])\n",
    "\n",
    "\n",
    "# Initialize the contrastive loss function with model and temperature\n",
    "loss_fn = contrastive_loss(batch_size, temperature=config['temperature'])\n",
    "\n",
    "# Training loop setup\n",
    "epochs = config['epochs'] \n",
    "\n",
    "# Set optimizer for training\n",
    "lr_decayed_fn = tf.keras.experimental.CosineDecay(\n",
    "    initial_learning_rate=config['learning_rate'], decay_steps=1000)\n",
    "optimizer = tf.keras.optimizers.SGD(lr_decayed_fn)\n",
    "# optimizer = tf.keras.optimizers.Adam(learning_rate=config['learning_rate'])"
   ]
  },
  {
   "cell_type": "code",
   "execution_count": 7,
   "metadata": {},
   "outputs": [
    {
     "name": "stderr",
     "output_type": "stream",
     "text": [
      "100%|██████████| 87/87 [00:27<00:00,  3.16it/s]\n"
     ]
    },
    {
     "name": "stdout",
     "output_type": "stream",
     "text": [
      "Epoch 1/15, Loss: 5.9299\n"
     ]
    },
    {
     "name": "stderr",
     "output_type": "stream",
     "text": [
      "100%|██████████| 87/87 [00:23<00:00,  3.68it/s]\n"
     ]
    },
    {
     "name": "stdout",
     "output_type": "stream",
     "text": [
      "Epoch 2/15, Loss: 4.4038\n"
     ]
    },
    {
     "name": "stderr",
     "output_type": "stream",
     "text": [
      "100%|██████████| 87/87 [00:23<00:00,  3.70it/s]\n"
     ]
    },
    {
     "name": "stdout",
     "output_type": "stream",
     "text": [
      "Epoch 3/15, Loss: 3.7581\n"
     ]
    },
    {
     "name": "stderr",
     "output_type": "stream",
     "text": [
      "100%|██████████| 87/87 [00:23<00:00,  3.68it/s]\n"
     ]
    },
    {
     "name": "stdout",
     "output_type": "stream",
     "text": [
      "Epoch 4/15, Loss: 3.2438\n"
     ]
    },
    {
     "name": "stderr",
     "output_type": "stream",
     "text": [
      "100%|██████████| 87/87 [00:23<00:00,  3.70it/s]\n"
     ]
    },
    {
     "name": "stdout",
     "output_type": "stream",
     "text": [
      "Epoch 5/15, Loss: 2.8405\n"
     ]
    },
    {
     "name": "stderr",
     "output_type": "stream",
     "text": [
      "100%|██████████| 87/87 [00:23<00:00,  3.69it/s]\n"
     ]
    },
    {
     "name": "stdout",
     "output_type": "stream",
     "text": [
      "Epoch 6/15, Loss: 2.6259\n"
     ]
    },
    {
     "name": "stderr",
     "output_type": "stream",
     "text": [
      "100%|██████████| 87/87 [00:23<00:00,  3.70it/s]\n"
     ]
    },
    {
     "name": "stdout",
     "output_type": "stream",
     "text": [
      "Epoch 7/15, Loss: 2.4607\n"
     ]
    },
    {
     "name": "stderr",
     "output_type": "stream",
     "text": [
      "100%|██████████| 87/87 [00:23<00:00,  3.69it/s]\n"
     ]
    },
    {
     "name": "stdout",
     "output_type": "stream",
     "text": [
      "Epoch 8/15, Loss: 2.2994\n"
     ]
    },
    {
     "name": "stderr",
     "output_type": "stream",
     "text": [
      "100%|██████████| 87/87 [00:23<00:00,  3.70it/s]\n"
     ]
    },
    {
     "name": "stdout",
     "output_type": "stream",
     "text": [
      "Epoch 9/15, Loss: 2.2469\n"
     ]
    },
    {
     "name": "stderr",
     "output_type": "stream",
     "text": [
      "100%|██████████| 87/87 [00:23<00:00,  3.70it/s]\n"
     ]
    },
    {
     "name": "stdout",
     "output_type": "stream",
     "text": [
      "Epoch 10/15, Loss: 2.1707\n"
     ]
    },
    {
     "name": "stderr",
     "output_type": "stream",
     "text": [
      "100%|██████████| 87/87 [00:23<00:00,  3.71it/s]\n"
     ]
    },
    {
     "name": "stdout",
     "output_type": "stream",
     "text": [
      "Epoch 11/15, Loss: 2.1441\n"
     ]
    },
    {
     "name": "stderr",
     "output_type": "stream",
     "text": [
      "100%|██████████| 87/87 [00:23<00:00,  3.68it/s]\n"
     ]
    },
    {
     "name": "stdout",
     "output_type": "stream",
     "text": [
      "Epoch 12/15, Loss: 2.1647\n"
     ]
    },
    {
     "name": "stderr",
     "output_type": "stream",
     "text": [
      "100%|██████████| 87/87 [00:23<00:00,  3.72it/s]\n"
     ]
    },
    {
     "name": "stdout",
     "output_type": "stream",
     "text": [
      "Epoch 13/15, Loss: 2.1360\n"
     ]
    },
    {
     "name": "stderr",
     "output_type": "stream",
     "text": [
      "100%|██████████| 87/87 [00:23<00:00,  3.71it/s]\n"
     ]
    },
    {
     "name": "stdout",
     "output_type": "stream",
     "text": [
      "Epoch 14/15, Loss: 2.1307\n"
     ]
    },
    {
     "name": "stderr",
     "output_type": "stream",
     "text": [
      "100%|██████████| 87/87 [00:23<00:00,  3.71it/s]"
     ]
    },
    {
     "name": "stdout",
     "output_type": "stream",
     "text": [
      "Epoch 15/15, Loss: 2.1422\n",
      "WARNING:tensorflow:Compiled the loaded model, but the compiled metrics have yet to be built. `model.compile_metrics` will be empty until you train or evaluate the model.\n"
     ]
    },
    {
     "name": "stderr",
     "output_type": "stream",
     "text": [
      "\n",
      "WARNING:absl:Found untraced functions such as _jit_compiled_convolution_op, _jit_compiled_convolution_op, _jit_compiled_convolution_op, _jit_compiled_convolution_op, _jit_compiled_convolution_op while saving (showing 5 of 53). These functions will not be directly callable after loading.\n"
     ]
    },
    {
     "name": "stdout",
     "output_type": "stream",
     "text": [
      "INFO:tensorflow:Assets written to: ./saved_models\\assets\n"
     ]
    },
    {
     "name": "stderr",
     "output_type": "stream",
     "text": [
      "INFO:tensorflow:Assets written to: ./saved_models\\assets\n"
     ]
    }
   ],
   "source": [
    "for epoch in range(epochs):\n",
    "    total_loss = 0\n",
    "    num_batches = 0\n",
    "\n",
    "    for images, _ in tqdm(train_dataset):\n",
    "        with tf.GradientTape() as tape:\n",
    "            # Forward pass through the model for both sets of augmented images\n",
    "            _, proj1 = model(images[0], training=True)\n",
    "            _, proj2 = model(images[1], training=True)\n",
    "\n",
    "            # Calculate loss\n",
    "            loss = loss_fn(proj1, proj2)\n",
    "\n",
    "        # Compute and apply gradients\n",
    "        gradients = tape.gradient(loss, model.trainable_variables)\n",
    "        optimizer.apply_gradients(zip(gradients, model.trainable_variables))\n",
    "\n",
    "        # Accumulate loss for reporting\n",
    "        total_loss += loss\n",
    "        num_batches += 1\n",
    "\n",
    "    # Calculate and display average loss for the epoch\n",
    "    avg_loss = total_loss / num_batches\n",
    "    print(f\"Epoch {epoch + 1}/{epochs}, Loss: {avg_loss:.4f}\")\n",
    "\n",
    "# Save the trained model\n",
    "model.save('./saved_models')"
   ]
  },
  {
   "cell_type": "code",
   "execution_count": 27,
   "metadata": {},
   "outputs": [
    {
     "name": "stdout",
     "output_type": "stream",
     "text": [
      "WARNING:tensorflow:No training configuration found in save file, so the model was *not* compiled. Compile it manually.\n"
     ]
    },
    {
     "name": "stderr",
     "output_type": "stream",
     "text": [
      "WARNING:tensorflow:No training configuration found in save file, so the model was *not* compiled. Compile it manually.\n"
     ]
    },
    {
     "name": "stdout",
     "output_type": "stream",
     "text": [
      "Epoch 1/100\n",
      "144/144 [==============================] - 1s 3ms/step - loss: 4.5747 - accuracy: 0.0158\n",
      "Epoch 2/100\n",
      "144/144 [==============================] - 0s 3ms/step - loss: 4.4283 - accuracy: 0.0263\n",
      "Epoch 3/100\n",
      "144/144 [==============================] - 0s 3ms/step - loss: 4.2945 - accuracy: 0.0419\n",
      "Epoch 4/100\n",
      "144/144 [==============================] - 0s 3ms/step - loss: 4.1896 - accuracy: 0.0590\n",
      "Epoch 5/100\n",
      "144/144 [==============================] - 0s 3ms/step - loss: 4.1327 - accuracy: 0.0658\n",
      "Epoch 6/100\n",
      "144/144 [==============================] - 0s 3ms/step - loss: 4.0515 - accuracy: 0.0775\n",
      "Epoch 7/100\n",
      "144/144 [==============================] - 0s 3ms/step - loss: 3.9936 - accuracy: 0.0838\n",
      "Epoch 8/100\n",
      "144/144 [==============================] - 0s 3ms/step - loss: 3.9380 - accuracy: 0.0901\n",
      "Epoch 9/100\n",
      "144/144 [==============================] - 0s 3ms/step - loss: 3.8686 - accuracy: 0.1016\n",
      "Epoch 10/100\n",
      "144/144 [==============================] - 0s 3ms/step - loss: 3.8212 - accuracy: 0.1094\n",
      "Epoch 11/100\n",
      "144/144 [==============================] - 0s 3ms/step - loss: 3.7828 - accuracy: 0.1120\n",
      "Epoch 12/100\n",
      "144/144 [==============================] - 1s 3ms/step - loss: 3.7221 - accuracy: 0.1226\n",
      "Epoch 13/100\n",
      "144/144 [==============================] - 0s 3ms/step - loss: 3.6795 - accuracy: 0.1235\n",
      "Epoch 14/100\n",
      "144/144 [==============================] - 1s 3ms/step - loss: 3.6374 - accuracy: 0.1367\n",
      "Epoch 15/100\n",
      "144/144 [==============================] - 1s 4ms/step - loss: 3.5850 - accuracy: 0.1404\n",
      "Epoch 16/100\n",
      "144/144 [==============================] - 1s 4ms/step - loss: 3.5512 - accuracy: 0.1508\n",
      "Epoch 17/100\n",
      "144/144 [==============================] - 1s 4ms/step - loss: 3.4723 - accuracy: 0.1625\n",
      "Epoch 18/100\n",
      "144/144 [==============================] - 1s 4ms/step - loss: 3.4499 - accuracy: 0.1680\n",
      "Epoch 19/100\n",
      "144/144 [==============================] - 1s 4ms/step - loss: 3.3842 - accuracy: 0.1732\n",
      "Epoch 20/100\n",
      "144/144 [==============================] - 1s 4ms/step - loss: 3.3410 - accuracy: 0.1790\n",
      "Epoch 21/100\n",
      "144/144 [==============================] - 1s 4ms/step - loss: 3.3080 - accuracy: 0.1929\n",
      "Epoch 22/100\n",
      "144/144 [==============================] - 1s 3ms/step - loss: 3.2632 - accuracy: 0.2025\n",
      "Epoch 23/100\n",
      "144/144 [==============================] - 1s 4ms/step - loss: 3.2145 - accuracy: 0.2051\n",
      "Epoch 24/100\n",
      "144/144 [==============================] - 0s 3ms/step - loss: 3.1700 - accuracy: 0.2148\n",
      "Epoch 25/100\n",
      "144/144 [==============================] - 1s 4ms/step - loss: 3.1225 - accuracy: 0.2233\n",
      "Epoch 26/100\n",
      "144/144 [==============================] - 1s 4ms/step - loss: 3.0538 - accuracy: 0.2387\n",
      "Epoch 27/100\n",
      "144/144 [==============================] - 1s 4ms/step - loss: 3.0083 - accuracy: 0.2413\n",
      "Epoch 28/100\n",
      "144/144 [==============================] - 1s 4ms/step - loss: 2.9698 - accuracy: 0.2517\n",
      "Epoch 29/100\n",
      "144/144 [==============================] - 1s 4ms/step - loss: 2.9074 - accuracy: 0.2754\n",
      "Epoch 30/100\n",
      "144/144 [==============================] - 1s 4ms/step - loss: 2.8444 - accuracy: 0.2841\n",
      "Epoch 31/100\n",
      "144/144 [==============================] - 1s 4ms/step - loss: 2.8236 - accuracy: 0.2828\n",
      "Epoch 32/100\n",
      "144/144 [==============================] - 1s 4ms/step - loss: 2.8054 - accuracy: 0.2910\n",
      "Epoch 33/100\n",
      "144/144 [==============================] - 1s 4ms/step - loss: 2.6871 - accuracy: 0.3092\n",
      "Epoch 34/100\n",
      "144/144 [==============================] - 1s 4ms/step - loss: 2.6586 - accuracy: 0.3194\n",
      "Epoch 35/100\n",
      "144/144 [==============================] - 1s 4ms/step - loss: 2.6095 - accuracy: 0.3279\n",
      "Epoch 36/100\n",
      "144/144 [==============================] - 1s 4ms/step - loss: 2.5420 - accuracy: 0.3411\n",
      "Epoch 37/100\n",
      "144/144 [==============================] - 1s 4ms/step - loss: 2.4955 - accuracy: 0.3481\n",
      "Epoch 38/100\n",
      "144/144 [==============================] - 1s 4ms/step - loss: 2.4500 - accuracy: 0.3644\n",
      "Epoch 39/100\n",
      "144/144 [==============================] - 1s 4ms/step - loss: 2.4230 - accuracy: 0.3681\n",
      "Epoch 40/100\n",
      "144/144 [==============================] - 1s 4ms/step - loss: 2.3450 - accuracy: 0.3848\n",
      "Epoch 41/100\n",
      "144/144 [==============================] - 1s 4ms/step - loss: 2.3008 - accuracy: 0.4010\n",
      "Epoch 42/100\n",
      "144/144 [==============================] - 1s 4ms/step - loss: 2.2584 - accuracy: 0.4058\n",
      "Epoch 43/100\n",
      "144/144 [==============================] - 1s 4ms/step - loss: 2.2166 - accuracy: 0.4125\n",
      "Epoch 44/100\n",
      "144/144 [==============================] - 1s 4ms/step - loss: 2.1741 - accuracy: 0.4238\n",
      "Epoch 45/100\n",
      "144/144 [==============================] - 1s 4ms/step - loss: 2.1271 - accuracy: 0.4421\n",
      "Epoch 46/100\n",
      "144/144 [==============================] - 1s 4ms/step - loss: 2.0871 - accuracy: 0.4399\n",
      "Epoch 47/100\n",
      "144/144 [==============================] - 1s 4ms/step - loss: 2.0005 - accuracy: 0.4711\n",
      "Epoch 48/100\n",
      "144/144 [==============================] - 1s 4ms/step - loss: 1.9891 - accuracy: 0.4698\n",
      "Epoch 49/100\n",
      "144/144 [==============================] - 1s 4ms/step - loss: 1.9332 - accuracy: 0.4857\n",
      "Epoch 50/100\n",
      "144/144 [==============================] - 1s 4ms/step - loss: 1.8970 - accuracy: 0.4861\n",
      "Epoch 51/100\n",
      "144/144 [==============================] - 1s 4ms/step - loss: 1.8673 - accuracy: 0.4911\n",
      "Epoch 52/100\n",
      "144/144 [==============================] - 1s 4ms/step - loss: 1.8237 - accuracy: 0.5187\n",
      "Epoch 53/100\n",
      "144/144 [==============================] - 1s 4ms/step - loss: 1.7673 - accuracy: 0.5256\n",
      "Epoch 54/100\n",
      "144/144 [==============================] - 1s 4ms/step - loss: 1.6931 - accuracy: 0.5365\n",
      "Epoch 55/100\n",
      "144/144 [==============================] - 1s 4ms/step - loss: 1.6851 - accuracy: 0.5467\n",
      "Epoch 56/100\n",
      "144/144 [==============================] - 1s 4ms/step - loss: 1.6476 - accuracy: 0.5482\n",
      "Epoch 57/100\n",
      "144/144 [==============================] - 1s 4ms/step - loss: 1.6039 - accuracy: 0.5694\n",
      "Epoch 58/100\n",
      "144/144 [==============================] - 1s 4ms/step - loss: 1.5696 - accuracy: 0.5749\n",
      "Epoch 59/100\n",
      "144/144 [==============================] - 1s 4ms/step - loss: 1.5294 - accuracy: 0.5773\n",
      "Epoch 60/100\n",
      "144/144 [==============================] - 1s 4ms/step - loss: 1.5105 - accuracy: 0.5849\n",
      "Epoch 61/100\n",
      "144/144 [==============================] - 1s 4ms/step - loss: 1.4504 - accuracy: 0.6070\n",
      "Epoch 62/100\n",
      "144/144 [==============================] - 1s 4ms/step - loss: 1.4474 - accuracy: 0.5974\n",
      "Epoch 63/100\n",
      "144/144 [==============================] - 1s 4ms/step - loss: 1.3885 - accuracy: 0.6165\n",
      "Epoch 64/100\n",
      "144/144 [==============================] - 1s 4ms/step - loss: 1.3570 - accuracy: 0.6183\n",
      "Epoch 65/100\n",
      "144/144 [==============================] - 1s 4ms/step - loss: 1.3125 - accuracy: 0.6391\n",
      "Epoch 66/100\n",
      "144/144 [==============================] - 1s 4ms/step - loss: 1.2773 - accuracy: 0.6495\n",
      "Epoch 67/100\n",
      "144/144 [==============================] - 1s 4ms/step - loss: 1.2715 - accuracy: 0.6441\n",
      "Epoch 68/100\n",
      "144/144 [==============================] - 1s 4ms/step - loss: 1.2274 - accuracy: 0.6638\n",
      "Epoch 69/100\n",
      "144/144 [==============================] - 1s 4ms/step - loss: 1.1844 - accuracy: 0.6645\n",
      "Epoch 70/100\n",
      "144/144 [==============================] - 1s 4ms/step - loss: 1.1531 - accuracy: 0.6810\n",
      "Epoch 71/100\n",
      "144/144 [==============================] - 1s 4ms/step - loss: 1.1158 - accuracy: 0.6949\n",
      "Epoch 72/100\n",
      "144/144 [==============================] - 1s 4ms/step - loss: 1.0830 - accuracy: 0.7033\n",
      "Epoch 73/100\n",
      "144/144 [==============================] - 1s 4ms/step - loss: 1.0747 - accuracy: 0.6990\n",
      "Epoch 74/100\n",
      "144/144 [==============================] - 1s 4ms/step - loss: 1.0438 - accuracy: 0.7072\n",
      "Epoch 75/100\n",
      "144/144 [==============================] - 1s 4ms/step - loss: 1.0272 - accuracy: 0.7120\n",
      "Epoch 76/100\n",
      "144/144 [==============================] - 1s 4ms/step - loss: 1.0046 - accuracy: 0.7218\n",
      "Epoch 77/100\n",
      "144/144 [==============================] - 1s 4ms/step - loss: 0.9864 - accuracy: 0.7194\n",
      "Epoch 78/100\n",
      "144/144 [==============================] - 1s 4ms/step - loss: 0.9622 - accuracy: 0.7292\n",
      "Epoch 79/100\n",
      "144/144 [==============================] - 1s 4ms/step - loss: 0.9298 - accuracy: 0.7463\n",
      "Epoch 80/100\n",
      "144/144 [==============================] - 1s 4ms/step - loss: 0.9034 - accuracy: 0.7439\n",
      "Epoch 81/100\n",
      "144/144 [==============================] - 1s 4ms/step - loss: 0.8618 - accuracy: 0.7585\n",
      "Epoch 82/100\n",
      "144/144 [==============================] - 1s 4ms/step - loss: 0.8597 - accuracy: 0.7598\n",
      "Epoch 83/100\n",
      "144/144 [==============================] - 1s 4ms/step - loss: 0.8317 - accuracy: 0.7684\n",
      "Epoch 84/100\n",
      "144/144 [==============================] - 1s 4ms/step - loss: 0.8074 - accuracy: 0.7680\n",
      "Epoch 85/100\n",
      "144/144 [==============================] - 1s 4ms/step - loss: 0.7734 - accuracy: 0.7858\n",
      "Epoch 86/100\n",
      "144/144 [==============================] - 1s 4ms/step - loss: 0.7897 - accuracy: 0.7819\n",
      "Epoch 87/100\n",
      "144/144 [==============================] - 1s 4ms/step - loss: 0.7498 - accuracy: 0.7943\n",
      "Epoch 88/100\n",
      "144/144 [==============================] - 1s 4ms/step - loss: 0.7440 - accuracy: 0.7862\n",
      "Epoch 89/100\n",
      "144/144 [==============================] - 1s 4ms/step - loss: 0.7192 - accuracy: 0.7990\n",
      "Epoch 90/100\n",
      "144/144 [==============================] - 1s 4ms/step - loss: 0.7063 - accuracy: 0.8075\n",
      "Epoch 91/100\n",
      "144/144 [==============================] - 1s 4ms/step - loss: 0.6788 - accuracy: 0.8088\n",
      "Epoch 92/100\n",
      "144/144 [==============================] - 1s 4ms/step - loss: 0.6745 - accuracy: 0.8125\n",
      "Epoch 93/100\n",
      "144/144 [==============================] - 1s 4ms/step - loss: 0.6823 - accuracy: 0.8110\n",
      "Epoch 94/100\n",
      "144/144 [==============================] - 1s 4ms/step - loss: 0.6482 - accuracy: 0.8205\n",
      "Epoch 95/100\n",
      "144/144 [==============================] - 1s 4ms/step - loss: 0.6177 - accuracy: 0.8283\n",
      "Epoch 96/100\n",
      "144/144 [==============================] - 1s 4ms/step - loss: 0.6371 - accuracy: 0.8279\n",
      "Epoch 97/100\n",
      "144/144 [==============================] - 1s 4ms/step - loss: 0.5986 - accuracy: 0.8427\n",
      "Epoch 98/100\n",
      "144/144 [==============================] - 1s 4ms/step - loss: 0.5895 - accuracy: 0.8379\n",
      "Epoch 99/100\n",
      "144/144 [==============================] - 1s 4ms/step - loss: 0.5840 - accuracy: 0.8353\n",
      "Epoch 100/100\n",
      "144/144 [==============================] - 1s 4ms/step - loss: 0.5574 - accuracy: 0.8433\n",
      "304/304 [==============================] - 0s 1ms/step\n",
      "Test Accuracy: 0.0688733552631579\n"
     ]
    }
   ],
   "source": [
    "from tensorflow.keras.initializers import GlorotUniform\n",
    "from tensorflow.keras.optimizers import Adam\n",
    "# Extract representations\n",
    "model = tf.keras.models.load_model('./saved_models')\n",
    "\n",
    "train_x = []\n",
    "train_y = []\n",
    "for images, label in validation_dataset:\n",
    "    rep, _ = model(images, training=False)  # Get the representation\n",
    "    train_x.append(rep)\n",
    "    train_y.append(label)\n",
    "\n",
    "test_x = []\n",
    "test_y = []\n",
    "for x, y in test_dataset:\n",
    "    rep, _ = model(x, training=False)\n",
    "    test_x.append(rep)\n",
    "    test_y.append(y)\n",
    "\n",
    "train_x = tf.concat(train_x, axis=0)\n",
    "train_y = tf.concat(train_y, axis=0)\n",
    "test_x = tf.concat(test_x, axis=0)\n",
    "test_y = tf.concat(test_y, axis=0)\n",
    "train_x = train_x / np.max(train_x)\n",
    "test_x = test_x / np.max(test_x)\n",
    "\n",
    "# Make sure labels are in the correct shape\n",
    "train_y = tf.squeeze(train_y)\n",
    "test_y = tf.squeeze(test_y)\n",
    "\n",
    "# Test a linear classifier on the representations\n",
    "classifier = Sequential([\n",
    "    Dense(512, activation='relu', input_shape=(train_x.shape[1],)),  # First dense layer\n",
    "    Dropout(0.5),  # Dropout layer for regularization\n",
    "    Dense(256, activation='relu'),  # Second dense layer\n",
    "    Dropout(0.5),  # Another dropout layer\n",
    "    Dense(100, activation='softmax')  # Output layer with 100 units for CIFAR100\n",
    "])\n",
    "classifier.compile(loss=\"sparse_categorical_crossentropy\", metrics=[\"accuracy\"], optimizer=Adam(learning_rate=1e-3))\n",
    "classifier.fit(train_x, train_y, epochs=100, batch_size=32)\n",
    "\n",
    "# Predict on the test set\n",
    "predicted_labels = classifier.predict(test_x)\n",
    "\n",
    "# Convert predictions to label indices\n",
    "predicted_label_indices = np.argmax(predicted_labels, axis=1)\n",
    "\n",
    "# Calculate accuracy\n",
    "accuracy = np.mean(predicted_label_indices == test_y.numpy())\n",
    "print('Test Accuracy: {}'.format(accuracy))\n"
   ]
  }
 ],
 "metadata": {
  "kernelspec": {
   "display_name": "332proj",
   "language": "python",
   "name": "python3"
  },
  "language_info": {
   "codemirror_mode": {
    "name": "ipython",
    "version": 3
   },
   "file_extension": ".py",
   "mimetype": "text/x-python",
   "name": "python",
   "nbconvert_exporter": "python",
   "pygments_lexer": "ipython3",
   "version": "3.9.18"
  }
 },
 "nbformat": 4,
 "nbformat_minor": 2
}
