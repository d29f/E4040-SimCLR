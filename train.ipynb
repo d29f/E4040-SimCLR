{
 "cells": [
  {
   "cell_type": "code",
   "execution_count": 1,
   "metadata": {},
   "outputs": [],
   "source": [
    "import tensorflow as tf\n",
    "import re\n",
    "import yaml\n",
    "from tqdm import tqdm\n",
    "from sklearn.linear_model import LogisticRegression\n",
    "import numpy as np\n",
    "from model import ResNetSimCLR\n",
    "from augmentation.augment_helper import crop_and_resize_and_flip, color_distort, rotate, cutout, gaussian_noise, crop_and_resize\n",
    "from tensorflow.keras.datasets import cifar100\n",
    "from tensorflow.keras.layers import *\n",
    "from tensorflow.keras.models import *"
   ]
  },
  {
   "cell_type": "code",
   "execution_count": 2,
   "metadata": {},
   "outputs": [
    {
     "name": "stdout",
     "output_type": "stream",
     "text": [
      "Num GPUs Available:  1\n"
     ]
    }
   ],
   "source": [
    "print(\"Num GPUs Available: \", len(tf.config.list_physical_devices('GPU')))"
   ]
  },
  {
   "cell_type": "code",
   "execution_count": 3,
   "metadata": {},
   "outputs": [],
   "source": [
    "@tf.function\n",
    "def augment_image(image, training=True):\n",
    "    \"\"\"\n",
    "    Apply a series of augmentations for SimCLR suitable for CIFAR-100.\n",
    "\n",
    "    Args:\n",
    "    - image: An image tensor.\n",
    "    - training: Flag to indicate if it's training phase.\n",
    "\n",
    "    Returns:\n",
    "    - Augmented image tensor.\n",
    "    \"\"\"\n",
    "    if training:\n",
    "        # Apply a series of random transformations for training\n",
    "        # Resize slightly larger for augmentation and then resize back\n",
    "        image = tf.image.resize(image, [40, 40])  # Resize to 40x40 for augmentation\n",
    "        # print(image.shape)\n",
    "        image= crop_and_resize(image, 32, 32)  # Resize back to 32x32 after augmentation\n",
    "        print(image.shape)\n",
    "        image = color_distort(image)\n",
    "        print(image.shape)\n",
    "        # image = rotate(image)\n",
    "        # print(image.shape)\n",
    "        # image = cutout(image, 10, 3)  # Adjusted patch size for CIFAR-100\n",
    "        # print(image.shape)\n",
    "        # image = gaussian_noise(image)\n",
    "        # print(image.shape)\n",
    "    else:\n",
    "        # For testing, resize to the original CIFAR-100 size without further augmentation\n",
    "        image = tf.image.resize(image, [32, 32])\n",
    "    return image"
   ]
  },
  {
   "cell_type": "code",
   "execution_count": 4,
   "metadata": {},
   "outputs": [],
   "source": [
    "@tf.function\n",
    "def preprocess_for_simclr(image, label, training=True):\n",
    "    \"\"\"Preprocesses and applies augmentation for SimCLR.\"\"\"\n",
    "    image = tf.cast(image, tf.float32) / 255.0  # Normalize the image\n",
    "    if training:\n",
    "        # Create two augmented versions of the image for training\n",
    "        augmented_image1 = augment_image(image, training=True)\n",
    "        augmented_image2 = augment_image(image, training=True)\n",
    "        return (augmented_image1, augmented_image2), label\n",
    "    else:\n",
    "        # For testing, resize to the original CIFAR-100 size without further augmentation\n",
    "        augmented_image = tf.image.resize(image, [32, 32])\n",
    "        return augmented_image, label\n",
    "    \n",
    "def load_dataset(images, labels, batch_size, training=True):\n",
    "    \"\"\"Creates a tf.data.Dataset object for CIFAR-100 with SimCLR augmentations.\"\"\"\n",
    "    dataset = tf.data.Dataset.from_tensor_slices((images, labels))\n",
    "    dataset = dataset.map(lambda x, y: preprocess_for_simclr(x, y, training), \n",
    "                          num_parallel_calls=tf.data.experimental.AUTOTUNE)\n",
    "    if training:\n",
    "        dataset = dataset.shuffle(1024)\n",
    "    dataset = dataset.batch(batch_size, drop_remainder=True).prefetch(tf.data.experimental.AUTOTUNE)\n",
    "    return dataset\n"
   ]
  },
  {
   "cell_type": "code",
   "execution_count": 5,
   "metadata": {},
   "outputs": [],
   "source": [
    "def contrastive_loss(batch_size, temperature=0.1):\n",
    "    def loss_fn(z_i, z_j):\n",
    "        \"\"\"\n",
    "        Calculate the NT-Xent loss.\n",
    "\n",
    "        Parameters:\n",
    "        - z_i, z_j: The outputs from the two augmented views of the images, with shapes (batch_size, feature_dim).\n",
    "\n",
    "        Returns:\n",
    "        - Scalar loss value.\n",
    "        \"\"\"\n",
    "        batch_size = tf.shape(z_i)[0]\n",
    "        z = tf.concat([z_i, z_j], axis=0)\n",
    "        z = tf.math.l2_normalize(z, axis=1)\n",
    "        \n",
    "        similarity_matrix = tf.matmul(z, z, transpose_b=True)\n",
    "        similarity_matrix = similarity_matrix / temperature\n",
    "\n",
    "        labels = tf.range(batch_size)\n",
    "        labels = tf.concat([labels, labels], axis=0)\n",
    "\n",
    "        # Create a mask to remove positive samples from the diagonals\n",
    "        mask = tf.one_hot(labels, 2 * batch_size)\n",
    "        logits_mask = tf.logical_not(tf.eye(2 * batch_size, dtype=tf.bool))\n",
    "        masked_similarity_matrix = tf.boolean_mask(similarity_matrix, logits_mask)\n",
    "\n",
    "        # Reshape the masked similarity matrix to the correct shape for cross-entropy\n",
    "        masked_similarity_matrix = tf.reshape(masked_similarity_matrix, (2 * batch_size, -1))\n",
    "\n",
    "        loss = tf.nn.sparse_softmax_cross_entropy_with_logits(logits=masked_similarity_matrix, labels=labels)\n",
    "        loss = tf.reduce_mean(loss)\n",
    "\n",
    "        return loss\n",
    "    return loss_fn\n"
   ]
  },
  {
   "cell_type": "code",
   "execution_count": 6,
   "metadata": {},
   "outputs": [],
   "source": [
    "# Load configuration from YAML file\n",
    "config = yaml.load(open('config.yaml', 'r'), Loader=yaml.FullLoader)\n",
    "batch_size = config['batch_size']\n",
    "\n",
    "# Prepare the training and  dataset\n",
    "(train_images, train_labels), (test_images, test_labels) = cifar100.load_data()\n",
    "(new_train_images, new_train_labels), (valid_images, valid_labels) = split_train_validation(train_images, train_labels)\n",
    "train_dataset = load_dataset(new_train_images, new_train_labels, batch_size, training=True)\n",
    "validation_dataset = load_dataset(valid_images, valid_labels, batch_size, training=False)\n",
    "test_dataset = load_dataset(test_images, test_labels, batch_size, training=False)\n",
    "\n",
    "# Initialize the SimCLR model with specified input and output dimensions\n",
    "if config['input_size'] == 32:\n",
    "    input_size = (32, 32, 3)\n",
    "model = ResNetSimCLR(input_size, config['output_size'])\n",
    "\n",
    "\n",
    "# Initialize the contrastive loss function with model and temperature\n",
    "loss_fn = contrastive_loss(batch_size, temperature=config['temperature'])\n",
    "\n",
    "# Training loop setup\n",
    "epochs = config['epochs'] \n",
    "\n",
    "# Set optimizer for training\n",
    "lr_decayed_fn = tf.keras.experimental.CosineDecay(\n",
    "    initial_learning_rate=config['learning_rate'], decay_steps=1000)\n",
    "optimizer = tf.keras.optimizers.SGD(lr_decayed_fn)\n",
    "# optimizer = tf.keras.optimizers.Adam(learning_rate=config['learning_rate'])"
   ]
  },
  {
   "cell_type": "code",
   "execution_count": 7,
   "metadata": {},
   "outputs": [
    {
     "name": "stderr",
     "output_type": "stream",
     "text": [
      "100%|██████████| 87/87 [00:27<00:00,  3.16it/s]\n"
     ]
    },
    {
     "name": "stdout",
     "output_type": "stream",
     "text": [
      "Epoch 1/15, Loss: 5.9299\n"
     ]
    },
    {
     "name": "stderr",
     "output_type": "stream",
     "text": [
      "100%|██████████| 87/87 [00:23<00:00,  3.68it/s]\n"
     ]
    },
    {
     "name": "stdout",
     "output_type": "stream",
     "text": [
      "Epoch 2/15, Loss: 4.4038\n"
     ]
    },
    {
     "name": "stderr",
     "output_type": "stream",
     "text": [
      "100%|██████████| 87/87 [00:23<00:00,  3.70it/s]\n"
     ]
    },
    {
     "name": "stdout",
     "output_type": "stream",
     "text": [
      "Epoch 3/15, Loss: 3.7581\n"
     ]
    },
    {
     "name": "stderr",
     "output_type": "stream",
     "text": [
      "100%|██████████| 87/87 [00:23<00:00,  3.68it/s]\n"
     ]
    },
    {
     "name": "stdout",
     "output_type": "stream",
     "text": [
      "Epoch 4/15, Loss: 3.2438\n"
     ]
    },
    {
     "name": "stderr",
     "output_type": "stream",
     "text": [
      "100%|██████████| 87/87 [00:23<00:00,  3.70it/s]\n"
     ]
    },
    {
     "name": "stdout",
     "output_type": "stream",
     "text": [
      "Epoch 5/15, Loss: 2.8405\n"
     ]
    },
    {
     "name": "stderr",
     "output_type": "stream",
     "text": [
      "100%|██████████| 87/87 [00:23<00:00,  3.69it/s]\n"
     ]
    },
    {
     "name": "stdout",
     "output_type": "stream",
     "text": [
      "Epoch 6/15, Loss: 2.6259\n"
     ]
    },
    {
     "name": "stderr",
     "output_type": "stream",
     "text": [
      "100%|██████████| 87/87 [00:23<00:00,  3.70it/s]\n"
     ]
    },
    {
     "name": "stdout",
     "output_type": "stream",
     "text": [
      "Epoch 7/15, Loss: 2.4607\n"
     ]
    },
    {
     "name": "stderr",
     "output_type": "stream",
     "text": [
      "100%|██████████| 87/87 [00:23<00:00,  3.69it/s]\n"
     ]
    },
    {
     "name": "stdout",
     "output_type": "stream",
     "text": [
      "Epoch 8/15, Loss: 2.2994\n"
     ]
    },
    {
     "name": "stderr",
     "output_type": "stream",
     "text": [
      "100%|██████████| 87/87 [00:23<00:00,  3.70it/s]\n"
     ]
    },
    {
     "name": "stdout",
     "output_type": "stream",
     "text": [
      "Epoch 9/15, Loss: 2.2469\n"
     ]
    },
    {
     "name": "stderr",
     "output_type": "stream",
     "text": [
      "100%|██████████| 87/87 [00:23<00:00,  3.70it/s]\n"
     ]
    },
    {
     "name": "stdout",
     "output_type": "stream",
     "text": [
      "Epoch 10/15, Loss: 2.1707\n"
     ]
    },
    {
     "name": "stderr",
     "output_type": "stream",
     "text": [
      "100%|██████████| 87/87 [00:23<00:00,  3.71it/s]\n"
     ]
    },
    {
     "name": "stdout",
     "output_type": "stream",
     "text": [
      "Epoch 11/15, Loss: 2.1441\n"
     ]
    },
    {
     "name": "stderr",
     "output_type": "stream",
     "text": [
      "100%|██████████| 87/87 [00:23<00:00,  3.68it/s]\n"
     ]
    },
    {
     "name": "stdout",
     "output_type": "stream",
     "text": [
      "Epoch 12/15, Loss: 2.1647\n"
     ]
    },
    {
     "name": "stderr",
     "output_type": "stream",
     "text": [
      "100%|██████████| 87/87 [00:23<00:00,  3.72it/s]\n"
     ]
    },
    {
     "name": "stdout",
     "output_type": "stream",
     "text": [
      "Epoch 13/15, Loss: 2.1360\n"
     ]
    },
    {
     "name": "stderr",
     "output_type": "stream",
     "text": [
      "100%|██████████| 87/87 [00:23<00:00,  3.71it/s]\n"
     ]
    },
    {
     "name": "stdout",
     "output_type": "stream",
     "text": [
      "Epoch 14/15, Loss: 2.1307\n"
     ]
    },
    {
     "name": "stderr",
     "output_type": "stream",
     "text": [
      "100%|██████████| 87/87 [00:23<00:00,  3.71it/s]"
     ]
    },
    {
     "name": "stdout",
     "output_type": "stream",
     "text": [
      "Epoch 15/15, Loss: 2.1422\n",
      "WARNING:tensorflow:Compiled the loaded model, but the compiled metrics have yet to be built. `model.compile_metrics` will be empty until you train or evaluate the model.\n"
     ]
    },
    {
     "name": "stderr",
     "output_type": "stream",
     "text": [
      "\n",
      "WARNING:absl:Found untraced functions such as _jit_compiled_convolution_op, _jit_compiled_convolution_op, _jit_compiled_convolution_op, _jit_compiled_convolution_op, _jit_compiled_convolution_op while saving (showing 5 of 53). These functions will not be directly callable after loading.\n"
     ]
    },
    {
     "name": "stdout",
     "output_type": "stream",
     "text": [
      "INFO:tensorflow:Assets written to: ./saved_models\\assets\n"
     ]
    },
    {
     "name": "stderr",
     "output_type": "stream",
     "text": [
      "INFO:tensorflow:Assets written to: ./saved_models\\assets\n"
     ]
    }
   ],
   "source": [
    "for epoch in range(epochs):\n",
    "    total_loss = 0\n",
    "    num_batches = 0\n",
    "\n",
    "    for images, _ in tqdm(train_dataset):\n",
    "        with tf.GradientTape() as tape:\n",
    "            # Forward pass through the model for both sets of augmented images\n",
    "            _, proj1 = model(images[0], training=True)\n",
    "            _, proj2 = model(images[1], training=True)\n",
    "\n",
    "            # Calculate loss\n",
    "            loss = loss_fn(proj1, proj2)\n",
    "\n",
    "        # Compute and apply gradients\n",
    "        gradients = tape.gradient(loss, model.trainable_variables)\n",
    "        optimizer.apply_gradients(zip(gradients, model.trainable_variables))\n",
    "\n",
    "        # Accumulate loss for reporting\n",
    "        total_loss += loss\n",
    "        num_batches += 1\n",
    "\n",
    "    # Calculate and display average loss for the epoch\n",
    "    avg_loss = total_loss / num_batches\n",
    "    print(f\"Epoch {epoch + 1}/{epochs}, Loss: {avg_loss:.4f}\")\n",
    "\n",
    "# Save the trained model\n",
    "model.save('./saved_models')"
   ]
  },
  {
   "cell_type": "code",
   "execution_count": 19,
   "metadata": {},
   "outputs": [
    {
     "name": "stdout",
     "output_type": "stream",
     "text": [
      "Epoch 1/15\n",
      "4/4 [==============================] - 0s 3ms/step - loss: 1.6106 - accuracy: 0.1300\n",
      "Epoch 2/15\n",
      "4/4 [==============================] - 0s 2ms/step - loss: 1.6090 - accuracy: 0.1600\n",
      "Epoch 3/15\n",
      "4/4 [==============================] - 0s 2ms/step - loss: 1.6076 - accuracy: 0.2100\n",
      "Epoch 4/15\n",
      "4/4 [==============================] - 0s 3ms/step - loss: 1.6061 - accuracy: 0.2500\n",
      "Epoch 5/15\n",
      "4/4 [==============================] - 0s 2ms/step - loss: 1.6047 - accuracy: 0.3100\n",
      "Epoch 6/15\n",
      "4/4 [==============================] - 0s 2ms/step - loss: 1.6033 - accuracy: 0.3400\n",
      "Epoch 7/15\n",
      "4/4 [==============================] - 0s 3ms/step - loss: 1.6019 - accuracy: 0.3800\n",
      "Epoch 8/15\n",
      "4/4 [==============================] - 0s 3ms/step - loss: 1.6005 - accuracy: 0.4600\n",
      "Epoch 9/15\n",
      "4/4 [==============================] - 0s 2ms/step - loss: 1.5991 - accuracy: 0.5000\n",
      "Epoch 10/15\n",
      "4/4 [==============================] - 0s 2ms/step - loss: 1.5978 - accuracy: 0.5700\n",
      "Epoch 11/15\n",
      "4/4 [==============================] - 0s 2ms/step - loss: 1.5964 - accuracy: 0.6100\n",
      "Epoch 12/15\n",
      "4/4 [==============================] - 0s 2ms/step - loss: 1.5950 - accuracy: 0.6500\n",
      "Epoch 13/15\n",
      "4/4 [==============================] - 0s 2ms/step - loss: 1.5937 - accuracy: 0.6700\n",
      "Epoch 14/15\n",
      "4/4 [==============================] - 0s 2ms/step - loss: 1.5923 - accuracy: 0.7000\n",
      "Epoch 15/15\n",
      "4/4 [==============================] - 0s 2ms/step - loss: 1.5910 - accuracy: 0.7200\n",
      "16/16 [==============================] - 0s 867us/step\n"
     ]
    }
   ],
   "source": [
    "from tensorflow.keras.initializers import GlorotUniform\n",
    "from tensorflow.keras.optimizers import Adam\n",
    "# Extract representations\n",
    "model = tf.keras.models.load_model('./saved_models')\n",
    "\n",
    "train_x = []\n",
    "train_y = []\n",
    "for images, label in validation_dataset:\n",
    "    rep, _ = model(images, training=False)  # Get the representation\n",
    "    train_x.append(rep)\n",
    "    train_y.append(label)\n",
    "\n",
    "test_x = []\n",
    "test_y = []\n",
    "for x, y in test_dataset:\n",
    "    rep, _ = model(x, training=False)\n",
    "    test_x.append(rep)\n",
    "    test_y.append(y)\n",
    "\n",
    "train_x = tf.concat(train_x, axis=0)\n",
    "train_y = tf.concat(train_y, axis=0)\n",
    "test_x = tf.concat(test_x, axis=0)\n",
    "test_y = tf.concat(test_y, axis=0)\n",
    "train_x = train_x / np.max(train_x)\n",
    "test_x = test_x / np.max(test_x)\n",
    "\n",
    "# Make sure labels are in the correct shape\n",
    "train_y = tf.squeeze(train_y)\n",
    "test_y = tf.squeeze(test_y)\n",
    "\n",
    "# Train a linear classifier on the representations\n",
    "classifier = Sequential([Dense(5, input_shape=(2048,), activation=\"softmax\", kernel_initializer=GlorotUniform())])\n",
    "classifier.compile(loss=\"sparse_categorical_crossentropy\", metrics=[\"accuracy\"], optimizer=Adam(learning_rate=1e-4))\n",
    "classifier.fit(train_x[:100], train_y[:100], epochs=15, batch_size=32)\n",
    "\n",
    "# Predict on the test set\n",
    "predicted_labels = classifier.predict(test_x[:500])\n",
    "\n",
    "# Convert predictions to label indices\n",
    "predicted_label_indices = np.argmax(predicted_labels, axis=1)\n",
    "\n",
    "# Calculate accuracy\n",
    "accuracy = np.mean(predicted_label_indices == test_y[:500].numpy())\n"
   ]
  }
 ],
 "metadata": {
  "kernelspec": {
   "display_name": "332proj",
   "language": "python",
   "name": "python3"
  },
  "language_info": {
   "codemirror_mode": {
    "name": "ipython",
    "version": 3
   },
   "file_extension": ".py",
   "mimetype": "text/x-python",
   "name": "python",
   "nbconvert_exporter": "python",
   "pygments_lexer": "ipython3",
   "version": "3.9.18"
  }
 },
 "nbformat": 4,
 "nbformat_minor": 2
}
